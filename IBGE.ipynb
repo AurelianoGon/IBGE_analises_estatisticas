{
 "cells": [
  {
   "cell_type": "markdown",
   "id": "5cf99518-fdb5-4960-b42e-f845821b9135",
   "metadata": {},
   "source": [
    "## Análise Descritiva do Banco de Dados (Pesquisa Nacional Domiciliar)"
   ]
  },
  {
   "cell_type": "code",
   "execution_count": 1,
   "id": "605371f8-5c1c-45d5-804f-72f523b8b955",
   "metadata": {},
   "outputs": [
    {
     "name": "stdout",
     "output_type": "stream",
     "text": [
      "Requirement already satisfied: seaborn in c:\\users\\brunn\\appdata\\local\\programs\\python\\python313\\lib\\site-packages (0.13.2)\n",
      "Requirement already satisfied: numpy!=1.24.0,>=1.20 in c:\\users\\brunn\\appdata\\local\\programs\\python\\python313\\lib\\site-packages (from seaborn) (2.1.2)\n",
      "Requirement already satisfied: pandas>=1.2 in c:\\users\\brunn\\appdata\\local\\programs\\python\\python313\\lib\\site-packages (from seaborn) (2.2.3)\n",
      "Requirement already satisfied: matplotlib!=3.6.1,>=3.4 in c:\\users\\brunn\\appdata\\local\\programs\\python\\python313\\lib\\site-packages (from seaborn) (3.9.2)\n",
      "Requirement already satisfied: contourpy>=1.0.1 in c:\\users\\brunn\\appdata\\local\\programs\\python\\python313\\lib\\site-packages (from matplotlib!=3.6.1,>=3.4->seaborn) (1.3.0)\n",
      "Requirement already satisfied: cycler>=0.10 in c:\\users\\brunn\\appdata\\local\\programs\\python\\python313\\lib\\site-packages (from matplotlib!=3.6.1,>=3.4->seaborn) (0.12.1)\n",
      "Requirement already satisfied: fonttools>=4.22.0 in c:\\users\\brunn\\appdata\\local\\programs\\python\\python313\\lib\\site-packages (from matplotlib!=3.6.1,>=3.4->seaborn) (4.54.1)\n",
      "Requirement already satisfied: kiwisolver>=1.3.1 in c:\\users\\brunn\\appdata\\local\\programs\\python\\python313\\lib\\site-packages (from matplotlib!=3.6.1,>=3.4->seaborn) (1.4.7)\n",
      "Requirement already satisfied: packaging>=20.0 in c:\\users\\brunn\\appdata\\local\\programs\\python\\python313\\lib\\site-packages (from matplotlib!=3.6.1,>=3.4->seaborn) (24.1)\n",
      "Requirement already satisfied: pillow>=8 in c:\\users\\brunn\\appdata\\local\\programs\\python\\python313\\lib\\site-packages (from matplotlib!=3.6.1,>=3.4->seaborn) (11.0.0)\n",
      "Requirement already satisfied: pyparsing>=2.3.1 in c:\\users\\brunn\\appdata\\local\\programs\\python\\python313\\lib\\site-packages (from matplotlib!=3.6.1,>=3.4->seaborn) (3.2.0)\n",
      "Requirement already satisfied: python-dateutil>=2.7 in c:\\users\\brunn\\appdata\\local\\programs\\python\\python313\\lib\\site-packages (from matplotlib!=3.6.1,>=3.4->seaborn) (2.9.0.post0)\n",
      "Requirement already satisfied: pytz>=2020.1 in c:\\users\\brunn\\appdata\\local\\programs\\python\\python313\\lib\\site-packages (from pandas>=1.2->seaborn) (2024.2)\n",
      "Requirement already satisfied: tzdata>=2022.7 in c:\\users\\brunn\\appdata\\local\\programs\\python\\python313\\lib\\site-packages (from pandas>=1.2->seaborn) (2024.2)\n",
      "Requirement already satisfied: six>=1.5 in c:\\users\\brunn\\appdata\\local\\programs\\python\\python313\\lib\\site-packages (from python-dateutil>=2.7->matplotlib!=3.6.1,>=3.4->seaborn) (1.16.0)\n"
     ]
    },
    {
     "name": "stderr",
     "output_type": "stream",
     "text": [
      "\n",
      "[notice] A new release of pip is available: 24.2 -> 24.3.1\n",
      "[notice] To update, run: python.exe -m pip install --upgrade pip\n"
     ]
    },
    {
     "name": "stdout",
     "output_type": "stream",
     "text": [
      "Requirement already satisfied: plotly in c:\\users\\brunn\\appdata\\local\\programs\\python\\python313\\lib\\site-packages (5.24.1)\n",
      "Requirement already satisfied: tenacity>=6.2.0 in c:\\users\\brunn\\appdata\\local\\programs\\python\\python313\\lib\\site-packages (from plotly) (9.0.0)\n",
      "Requirement already satisfied: packaging in c:\\users\\brunn\\appdata\\local\\programs\\python\\python313\\lib\\site-packages (from plotly) (24.1)\n"
     ]
    },
    {
     "name": "stderr",
     "output_type": "stream",
     "text": [
      "\n",
      "[notice] A new release of pip is available: 24.2 -> 24.3.1\n",
      "[notice] To update, run: python.exe -m pip install --upgrade pip\n"
     ]
    }
   ],
   "source": [
    "!pip install seaborn\n",
    "!pip install plotly\n",
    "# Carregar Bibliotecas\n",
    "import pandas as pd # manipulação e análise de dados\n",
    "import numpy as np # computação numérica / manipulação de arrays\n",
    "import seaborn as sns # criação de gráficos estatísticos\n",
    "import matplotlib.pyplot as plt # criar visualizações gráficas\n",
    "import plotly.express as px # criar gráficos interativos"
   ]
  },
  {
   "cell_type": "code",
   "execution_count": 4,
   "id": "92f38cc2-13ac-4f30-b5c1-bd59aff556a2",
   "metadata": {},
   "outputs": [],
   "source": [
    "# Carregar a base de dados  Pesquisa Nacional por Amostra de Domicílios (PNAD)\n",
    "pesquisa = pd.read_csv(r\"C:\\Users\\brunn\\OneDrive\\Área de Trabalho\\ESTATÍSTICA\\Estatística curso_nordeste\\Aula_04\\Base_dados_pesquisa_nacional_amostra_domicílios.csv\")"
   ]
  },
  {
   "cell_type": "code",
   "execution_count": 5,
   "id": "72ae2955-1589-4f9f-a97a-34982a12ff4d",
   "metadata": {},
   "outputs": [
    {
     "data": {
      "text/html": [
       "<div>\n",
       "<style scoped>\n",
       "    .dataframe tbody tr th:only-of-type {\n",
       "        vertical-align: middle;\n",
       "    }\n",
       "\n",
       "    .dataframe tbody tr th {\n",
       "        vertical-align: top;\n",
       "    }\n",
       "\n",
       "    .dataframe thead th {\n",
       "        text-align: right;\n",
       "    }\n",
       "</style>\n",
       "<table border=\"1\" class=\"dataframe\">\n",
       "  <thead>\n",
       "    <tr style=\"text-align: right;\">\n",
       "      <th></th>\n",
       "      <th>UF</th>\n",
       "      <th>Sexo</th>\n",
       "      <th>Idade</th>\n",
       "      <th>Cor</th>\n",
       "      <th>Anos de Estudo</th>\n",
       "      <th>Renda</th>\n",
       "      <th>Altura</th>\n",
       "    </tr>\n",
       "  </thead>\n",
       "  <tbody>\n",
       "    <tr>\n",
       "      <th>0</th>\n",
       "      <td>11</td>\n",
       "      <td>0</td>\n",
       "      <td>23</td>\n",
       "      <td>8</td>\n",
       "      <td>12</td>\n",
       "      <td>800</td>\n",
       "      <td>1.603808</td>\n",
       "    </tr>\n",
       "    <tr>\n",
       "      <th>1</th>\n",
       "      <td>11</td>\n",
       "      <td>1</td>\n",
       "      <td>23</td>\n",
       "      <td>2</td>\n",
       "      <td>12</td>\n",
       "      <td>1150</td>\n",
       "      <td>1.739790</td>\n",
       "    </tr>\n",
       "    <tr>\n",
       "      <th>2</th>\n",
       "      <td>11</td>\n",
       "      <td>1</td>\n",
       "      <td>35</td>\n",
       "      <td>8</td>\n",
       "      <td>15</td>\n",
       "      <td>880</td>\n",
       "      <td>1.760444</td>\n",
       "    </tr>\n",
       "    <tr>\n",
       "      <th>3</th>\n",
       "      <td>11</td>\n",
       "      <td>0</td>\n",
       "      <td>46</td>\n",
       "      <td>2</td>\n",
       "      <td>6</td>\n",
       "      <td>3500</td>\n",
       "      <td>1.783158</td>\n",
       "    </tr>\n",
       "    <tr>\n",
       "      <th>4</th>\n",
       "      <td>11</td>\n",
       "      <td>1</td>\n",
       "      <td>47</td>\n",
       "      <td>8</td>\n",
       "      <td>9</td>\n",
       "      <td>150</td>\n",
       "      <td>1.690631</td>\n",
       "    </tr>\n",
       "  </tbody>\n",
       "</table>\n",
       "</div>"
      ],
      "text/plain": [
       "   UF  Sexo  Idade  Cor  Anos de Estudo  Renda    Altura\n",
       "0  11     0     23    8              12    800  1.603808\n",
       "1  11     1     23    2              12   1150  1.739790\n",
       "2  11     1     35    8              15    880  1.760444\n",
       "3  11     0     46    2               6   3500  1.783158\n",
       "4  11     1     47    8               9    150  1.690631"
      ]
     },
     "execution_count": 5,
     "metadata": {},
     "output_type": "execute_result"
    }
   ],
   "source": [
    "# Visualizar as cinco primeiras observações\n",
    "pesquisa.head()"
   ]
  },
  {
   "cell_type": "code",
   "execution_count": 6,
   "id": "376a8a83-bd51-4f52-8a1a-1800b1faa897",
   "metadata": {},
   "outputs": [
    {
     "data": {
      "text/plain": [
       "Index(['UF', 'Sexo', 'Idade', 'Cor', 'Anos de Estudo', 'Renda', 'Altura'], dtype='object')"
      ]
     },
     "execution_count": 6,
     "metadata": {},
     "output_type": "execute_result"
    }
   ],
   "source": [
    "# visualizar os nomes das colunas\n",
    "pesquisa.columns"
   ]
  },
  {
   "cell_type": "code",
   "execution_count": 7,
   "id": "b32a4fcc-3b22-4554-bdaf-584f32901dff",
   "metadata": {},
   "outputs": [],
   "source": [
    "# Renomear as colunas\n",
    "pesquisa.rename(columns={'UF': 'estado', 'Sexo': 'sexo', 'Idade': 'idade', 'Cor':'cor', 'Anos de Estudo':'anos_estudo', 'Renda':'renda',\n",
    "                         'Altura':'altura'}, inplace=True)"
   ]
  },
  {
   "cell_type": "code",
   "execution_count": 8,
   "id": "0af72cb8-a721-43a8-b549-d94d46a227a3",
   "metadata": {},
   "outputs": [
    {
     "name": "stdout",
     "output_type": "stream",
     "text": [
      "Index(['estado', 'sexo', 'idade', 'cor', 'anos_estudo', 'renda', 'altura'], dtype='object')\n"
     ]
    }
   ],
   "source": [
    "print(pesquisa.columns)"
   ]
  },
  {
   "cell_type": "code",
   "execution_count": 9,
   "id": "d0b5f067-9ab3-4eb8-ad30-2ee8877e1366",
   "metadata": {},
   "outputs": [
    {
     "name": "stdout",
     "output_type": "stream",
     "text": [
      "<class 'pandas.core.frame.DataFrame'>\n",
      "RangeIndex: 76840 entries, 0 to 76839\n",
      "Data columns (total 7 columns):\n",
      " #   Column       Non-Null Count  Dtype  \n",
      "---  ------       --------------  -----  \n",
      " 0   estado       76840 non-null  int64  \n",
      " 1   sexo         76840 non-null  int64  \n",
      " 2   idade        76840 non-null  int64  \n",
      " 3   cor          76840 non-null  int64  \n",
      " 4   anos_estudo  76840 non-null  int64  \n",
      " 5   renda        76840 non-null  int64  \n",
      " 6   altura       76840 non-null  float64\n",
      "dtypes: float64(1), int64(6)\n",
      "memory usage: 4.1 MB\n"
     ]
    }
   ],
   "source": [
    "# Resumo informativo sobre o Dataframe, verificar \n",
    "pesquisa.info()"
   ]
  },
  {
   "cell_type": "code",
   "execution_count": 3,
   "id": "8bd07333-178d-4863-8200-0018fdabebe9",
   "metadata": {},
   "outputs": [
    {
     "ename": "KeyError",
     "evalue": "'cor'",
     "output_type": "error",
     "traceback": [
      "\u001b[1;31m---------------------------------------------------------------------------\u001b[0m",
      "\u001b[1;31mKeyError\u001b[0m                                  Traceback (most recent call last)",
      "File \u001b[1;32m~\\AppData\\Local\\Programs\\Python\\Python313\\Lib\\site-packages\\pandas\\core\\indexes\\base.py:3805\u001b[0m, in \u001b[0;36mIndex.get_loc\u001b[1;34m(self, key)\u001b[0m\n\u001b[0;32m   3804\u001b[0m \u001b[38;5;28;01mtry\u001b[39;00m:\n\u001b[1;32m-> 3805\u001b[0m     \u001b[38;5;28;01mreturn\u001b[39;00m \u001b[38;5;28;43mself\u001b[39;49m\u001b[38;5;241;43m.\u001b[39;49m\u001b[43m_engine\u001b[49m\u001b[38;5;241;43m.\u001b[39;49m\u001b[43mget_loc\u001b[49m\u001b[43m(\u001b[49m\u001b[43mcasted_key\u001b[49m\u001b[43m)\u001b[49m\n\u001b[0;32m   3806\u001b[0m \u001b[38;5;28;01mexcept\u001b[39;00m \u001b[38;5;167;01mKeyError\u001b[39;00m \u001b[38;5;28;01mas\u001b[39;00m err:\n",
      "File \u001b[1;32mindex.pyx:167\u001b[0m, in \u001b[0;36mpandas._libs.index.IndexEngine.get_loc\u001b[1;34m()\u001b[0m\n",
      "File \u001b[1;32mindex.pyx:196\u001b[0m, in \u001b[0;36mpandas._libs.index.IndexEngine.get_loc\u001b[1;34m()\u001b[0m\n",
      "File \u001b[1;32mpandas\\\\_libs\\\\hashtable_class_helper.pxi:7081\u001b[0m, in \u001b[0;36mpandas._libs.hashtable.PyObjectHashTable.get_item\u001b[1;34m()\u001b[0m\n",
      "File \u001b[1;32mpandas\\\\_libs\\\\hashtable_class_helper.pxi:7089\u001b[0m, in \u001b[0;36mpandas._libs.hashtable.PyObjectHashTable.get_item\u001b[1;34m()\u001b[0m\n",
      "\u001b[1;31mKeyError\u001b[0m: 'cor'",
      "\nThe above exception was the direct cause of the following exception:\n",
      "\u001b[1;31mKeyError\u001b[0m                                  Traceback (most recent call last)",
      "Cell \u001b[1;32mIn[3], line 2\u001b[0m\n\u001b[0;32m      1\u001b[0m \u001b[38;5;66;03m# Substituir os valors da coluna Cor - alterar o numero por nome\u001b[39;00m\n\u001b[1;32m----> 2\u001b[0m \u001b[43mpesquisa\u001b[49m\u001b[43m[\u001b[49m\u001b[38;5;124;43m'\u001b[39;49m\u001b[38;5;124;43mcor\u001b[39;49m\u001b[38;5;124;43m'\u001b[39;49m\u001b[43m]\u001b[49m\u001b[38;5;241m.\u001b[39mreplace({\u001b[38;5;241m0\u001b[39m:\u001b[38;5;124m'\u001b[39m\u001b[38;5;124mIndígena\u001b[39m\u001b[38;5;124m'\u001b[39m, \u001b[38;5;241m2\u001b[39m:\u001b[38;5;124m'\u001b[39m\u001b[38;5;124mBranco\u001b[39m\u001b[38;5;124m'\u001b[39m, \u001b[38;5;241m4\u001b[39m:\u001b[38;5;124m'\u001b[39m\u001b[38;5;124mPreta\u001b[39m\u001b[38;5;124m'\u001b[39m, \u001b[38;5;241m6\u001b[39m:\u001b[38;5;124m'\u001b[39m\u001b[38;5;124mAmarela\u001b[39m\u001b[38;5;124m'\u001b[39m, \u001b[38;5;241m8\u001b[39m:\u001b[38;5;124m'\u001b[39m\u001b[38;5;124mParda\u001b[39m\u001b[38;5;124m'\u001b[39m, \u001b[38;5;241m9\u001b[39m:\u001b[38;5;124m'\u001b[39m\u001b[38;5;124mSem declaracao\u001b[39m\u001b[38;5;124m'\u001b[39m}, inplace\u001b[38;5;241m=\u001b[39m\u001b[38;5;28;01mTrue\u001b[39;00m)\n",
      "File \u001b[1;32m~\\AppData\\Local\\Programs\\Python\\Python313\\Lib\\site-packages\\pandas\\core\\frame.py:4102\u001b[0m, in \u001b[0;36mDataFrame.__getitem__\u001b[1;34m(self, key)\u001b[0m\n\u001b[0;32m   4100\u001b[0m \u001b[38;5;28;01mif\u001b[39;00m \u001b[38;5;28mself\u001b[39m\u001b[38;5;241m.\u001b[39mcolumns\u001b[38;5;241m.\u001b[39mnlevels \u001b[38;5;241m>\u001b[39m \u001b[38;5;241m1\u001b[39m:\n\u001b[0;32m   4101\u001b[0m     \u001b[38;5;28;01mreturn\u001b[39;00m \u001b[38;5;28mself\u001b[39m\u001b[38;5;241m.\u001b[39m_getitem_multilevel(key)\n\u001b[1;32m-> 4102\u001b[0m indexer \u001b[38;5;241m=\u001b[39m \u001b[38;5;28;43mself\u001b[39;49m\u001b[38;5;241;43m.\u001b[39;49m\u001b[43mcolumns\u001b[49m\u001b[38;5;241;43m.\u001b[39;49m\u001b[43mget_loc\u001b[49m\u001b[43m(\u001b[49m\u001b[43mkey\u001b[49m\u001b[43m)\u001b[49m\n\u001b[0;32m   4103\u001b[0m \u001b[38;5;28;01mif\u001b[39;00m is_integer(indexer):\n\u001b[0;32m   4104\u001b[0m     indexer \u001b[38;5;241m=\u001b[39m [indexer]\n",
      "File \u001b[1;32m~\\AppData\\Local\\Programs\\Python\\Python313\\Lib\\site-packages\\pandas\\core\\indexes\\base.py:3812\u001b[0m, in \u001b[0;36mIndex.get_loc\u001b[1;34m(self, key)\u001b[0m\n\u001b[0;32m   3807\u001b[0m     \u001b[38;5;28;01mif\u001b[39;00m \u001b[38;5;28misinstance\u001b[39m(casted_key, \u001b[38;5;28mslice\u001b[39m) \u001b[38;5;129;01mor\u001b[39;00m (\n\u001b[0;32m   3808\u001b[0m         \u001b[38;5;28misinstance\u001b[39m(casted_key, abc\u001b[38;5;241m.\u001b[39mIterable)\n\u001b[0;32m   3809\u001b[0m         \u001b[38;5;129;01mand\u001b[39;00m \u001b[38;5;28many\u001b[39m(\u001b[38;5;28misinstance\u001b[39m(x, \u001b[38;5;28mslice\u001b[39m) \u001b[38;5;28;01mfor\u001b[39;00m x \u001b[38;5;129;01min\u001b[39;00m casted_key)\n\u001b[0;32m   3810\u001b[0m     ):\n\u001b[0;32m   3811\u001b[0m         \u001b[38;5;28;01mraise\u001b[39;00m InvalidIndexError(key)\n\u001b[1;32m-> 3812\u001b[0m     \u001b[38;5;28;01mraise\u001b[39;00m \u001b[38;5;167;01mKeyError\u001b[39;00m(key) \u001b[38;5;28;01mfrom\u001b[39;00m \u001b[38;5;21;01merr\u001b[39;00m\n\u001b[0;32m   3813\u001b[0m \u001b[38;5;28;01mexcept\u001b[39;00m \u001b[38;5;167;01mTypeError\u001b[39;00m:\n\u001b[0;32m   3814\u001b[0m     \u001b[38;5;66;03m# If we have a listlike key, _check_indexing_error will raise\u001b[39;00m\n\u001b[0;32m   3815\u001b[0m     \u001b[38;5;66;03m#  InvalidIndexError. Otherwise we fall through and re-raise\u001b[39;00m\n\u001b[0;32m   3816\u001b[0m     \u001b[38;5;66;03m#  the TypeError.\u001b[39;00m\n\u001b[0;32m   3817\u001b[0m     \u001b[38;5;28mself\u001b[39m\u001b[38;5;241m.\u001b[39m_check_indexing_error(key)\n",
      "\u001b[1;31mKeyError\u001b[0m: 'cor'"
     ]
    }
   ],
   "source": [
    "# Substituir os valors da coluna Cor - alterar o numero por nome\n",
    "pesquisa['cor'].replace({0:'Indígena', 2:'Branco', 4:'Preta', 6:'Amarela', 8:'Parda', 9:'Sem declaracao'}, inplace=True)\n"
   ]
  },
  {
   "cell_type": "code",
   "execution_count": 10,
   "id": "6a6bf4fa-1008-4dd5-b943-1ddfbe08bef6",
   "metadata": {},
   "outputs": [
    {
     "data": {
      "text/plain": [
       "0        8\n",
       "1        2\n",
       "2        8\n",
       "3        2\n",
       "4        8\n",
       "        ..\n",
       "76835    2\n",
       "76836    4\n",
       "76837    8\n",
       "76838    8\n",
       "76839    8\n",
       "Name: cor, Length: 76840, dtype: int64"
      ]
     },
     "execution_count": 10,
     "metadata": {},
     "output_type": "execute_result"
    }
   ],
   "source": [
    "# Analisar a coluna COR \n",
    "pesquisa['cor']"
   ]
  },
  {
   "cell_type": "code",
   "execution_count": 11,
   "id": "1f1a5550-8fe3-4c35-b336-2a21aa3f1c45",
   "metadata": {},
   "outputs": [
    {
     "name": "stdout",
     "output_type": "stream",
     "text": [
      "cor\n",
      "8    35925\n",
      "2    31815\n",
      "4     8391\n",
      "0      357\n",
      "6      352\n",
      "Name: count, dtype: int64\n"
     ]
    }
   ],
   "source": [
    "# Análise Descritivas da coluna COR. Por ser categórica, vamos analisar a frequência.\n",
    "contagem_cor = pesquisa['cor'].value_counts()\n",
    "print(contagem_cor)"
   ]
  },
  {
   "cell_type": "code",
   "execution_count": 12,
   "id": "a45ede36-58ac-433a-a8e6-2c71a8a4f142",
   "metadata": {},
   "outputs": [
    {
     "name": "stderr",
     "output_type": "stream",
     "text": [
      "C:\\Users\\brunn\\AppData\\Local\\Temp\\ipykernel_39864\\3062231628.py:3: FutureWarning: \n",
      "\n",
      "Passing `palette` without assigning `hue` is deprecated and will be removed in v0.14.0. Assign the `x` variable to `hue` and set `legend=False` for the same effect.\n",
      "\n",
      "  sns.countplot(x='cor', data=pesquisa, palette='Set2')\n"
     ]
    },
    {
     "data": {
      "image/png": "[encoded data removed]",
      "text/plain": [
       "<Figure size 800x600 with 1 Axes>"
      ]
     },
     "metadata": {},
     "output_type": "display_data"
    }
   ],
   "source": [
    "# Plotar o gráfico de barras para a coluna COR com seaborn\n",
    "plt.figure(figsize=(8,6))\n",
    "sns.countplot(x='cor', data=pesquisa, palette='Set2')\n",
    "plt.title('Distribuição da Cor')\n",
    "plt.xlabel('Cor')\n",
    "plt.ylabel('Frequência')\n",
    "plt.xticks(rotation=45)\n",
    "plt.grid(True)\n",
    "\n",
    "# Mostrar o gráfico\n",
    "plt.show()"
   ]
  },
  {
   "cell_type": "code",
   "execution_count": 13,
   "id": "699e7f30-4013-49ae-b4a9-2abfc0e2e727",
   "metadata": {},
   "outputs": [
    {
     "data": {
      "text/plain": [
       "0        0\n",
       "1        1\n",
       "2        1\n",
       "3        0\n",
       "4        1\n",
       "        ..\n",
       "76835    1\n",
       "76836    0\n",
       "76837    0\n",
       "76838    0\n",
       "76839    0\n",
       "Name: sexo, Length: 76840, dtype: int64"
      ]
     },
     "execution_count": 13,
     "metadata": {},
     "output_type": "execute_result"
    }
   ],
   "source": [
    "# Verificar a coluna Sexo\n",
    "pesquisa['sexo']"
   ]
  },
  {
   "cell_type": "code",
   "execution_count": 14,
   "id": "18d73482-27bc-496e-ac7e-9deeaee2702d",
   "metadata": {},
   "outputs": [
    {
     "data": {
      "text/plain": [
       "0        Masculino\n",
       "1         Feminino\n",
       "2         Feminino\n",
       "3        Masculino\n",
       "4         Feminino\n",
       "           ...    \n",
       "76835     Feminino\n",
       "76836    Masculino\n",
       "76837    Masculino\n",
       "76838    Masculino\n",
       "76839    Masculino\n",
       "Name: sexo, Length: 76840, dtype: object"
      ]
     },
     "execution_count": 14,
     "metadata": {},
     "output_type": "execute_result"
    }
   ],
   "source": [
    "# Renomear a coluna sexo\n",
    "pesquisa['sexo'].map({0:'Masculino', 1:'Feminino'})"
   ]
  },
  {
   "cell_type": "code",
   "execution_count": 15,
   "id": "25156a77-9cee-4c31-8ba0-d3637e61e765",
   "metadata": {},
   "outputs": [
    {
     "data": {
      "text/html": [
       "<div>\n",
       "<style scoped>\n",
       "    .dataframe tbody tr th:only-of-type {\n",
       "        vertical-align: middle;\n",
       "    }\n",
       "\n",
       "    .dataframe tbody tr th {\n",
       "        vertical-align: top;\n",
       "    }\n",
       "\n",
       "    .dataframe thead th {\n",
       "        text-align: right;\n",
       "    }\n",
       "</style>\n",
       "<table border=\"1\" class=\"dataframe\">\n",
       "  <thead>\n",
       "    <tr style=\"text-align: right;\">\n",
       "      <th></th>\n",
       "      <th>estado</th>\n",
       "      <th>sexo</th>\n",
       "      <th>idade</th>\n",
       "      <th>cor</th>\n",
       "      <th>anos_estudo</th>\n",
       "      <th>renda</th>\n",
       "      <th>altura</th>\n",
       "    </tr>\n",
       "  </thead>\n",
       "  <tbody>\n",
       "    <tr>\n",
       "      <th>0</th>\n",
       "      <td>11</td>\n",
       "      <td>0</td>\n",
       "      <td>23</td>\n",
       "      <td>8</td>\n",
       "      <td>12</td>\n",
       "      <td>800</td>\n",
       "      <td>1.603808</td>\n",
       "    </tr>\n",
       "    <tr>\n",
       "      <th>1</th>\n",
       "      <td>11</td>\n",
       "      <td>1</td>\n",
       "      <td>23</td>\n",
       "      <td>2</td>\n",
       "      <td>12</td>\n",
       "      <td>1150</td>\n",
       "      <td>1.739790</td>\n",
       "    </tr>\n",
       "    <tr>\n",
       "      <th>2</th>\n",
       "      <td>11</td>\n",
       "      <td>1</td>\n",
       "      <td>35</td>\n",
       "      <td>8</td>\n",
       "      <td>15</td>\n",
       "      <td>880</td>\n",
       "      <td>1.760444</td>\n",
       "    </tr>\n",
       "    <tr>\n",
       "      <th>3</th>\n",
       "      <td>11</td>\n",
       "      <td>0</td>\n",
       "      <td>46</td>\n",
       "      <td>2</td>\n",
       "      <td>6</td>\n",
       "      <td>3500</td>\n",
       "      <td>1.783158</td>\n",
       "    </tr>\n",
       "    <tr>\n",
       "      <th>4</th>\n",
       "      <td>11</td>\n",
       "      <td>1</td>\n",
       "      <td>47</td>\n",
       "      <td>8</td>\n",
       "      <td>9</td>\n",
       "      <td>150</td>\n",
       "      <td>1.690631</td>\n",
       "    </tr>\n",
       "    <tr>\n",
       "      <th>...</th>\n",
       "      <td>...</td>\n",
       "      <td>...</td>\n",
       "      <td>...</td>\n",
       "      <td>...</td>\n",
       "      <td>...</td>\n",
       "      <td>...</td>\n",
       "      <td>...</td>\n",
       "    </tr>\n",
       "    <tr>\n",
       "      <th>76835</th>\n",
       "      <td>53</td>\n",
       "      <td>1</td>\n",
       "      <td>46</td>\n",
       "      <td>2</td>\n",
       "      <td>11</td>\n",
       "      <td>812</td>\n",
       "      <td>1.687030</td>\n",
       "    </tr>\n",
       "    <tr>\n",
       "      <th>76836</th>\n",
       "      <td>53</td>\n",
       "      <td>0</td>\n",
       "      <td>30</td>\n",
       "      <td>4</td>\n",
       "      <td>7</td>\n",
       "      <td>1500</td>\n",
       "      <td>1.792934</td>\n",
       "    </tr>\n",
       "    <tr>\n",
       "      <th>76837</th>\n",
       "      <td>53</td>\n",
       "      <td>0</td>\n",
       "      <td>32</td>\n",
       "      <td>8</td>\n",
       "      <td>12</td>\n",
       "      <td>1300</td>\n",
       "      <td>1.830587</td>\n",
       "    </tr>\n",
       "    <tr>\n",
       "      <th>76838</th>\n",
       "      <td>53</td>\n",
       "      <td>0</td>\n",
       "      <td>57</td>\n",
       "      <td>8</td>\n",
       "      <td>4</td>\n",
       "      <td>1500</td>\n",
       "      <td>1.726344</td>\n",
       "    </tr>\n",
       "    <tr>\n",
       "      <th>76839</th>\n",
       "      <td>53</td>\n",
       "      <td>0</td>\n",
       "      <td>38</td>\n",
       "      <td>8</td>\n",
       "      <td>4</td>\n",
       "      <td>900</td>\n",
       "      <td>1.658305</td>\n",
       "    </tr>\n",
       "  </tbody>\n",
       "</table>\n",
       "<p>76840 rows × 7 columns</p>\n",
       "</div>"
      ],
      "text/plain": [
       "       estado  sexo  idade  cor  anos_estudo  renda    altura\n",
       "0          11     0     23    8           12    800  1.603808\n",
       "1          11     1     23    2           12   1150  1.739790\n",
       "2          11     1     35    8           15    880  1.760444\n",
       "3          11     0     46    2            6   3500  1.783158\n",
       "4          11     1     47    8            9    150  1.690631\n",
       "...       ...   ...    ...  ...          ...    ...       ...\n",
       "76835      53     1     46    2           11    812  1.687030\n",
       "76836      53     0     30    4            7   1500  1.792934\n",
       "76837      53     0     32    8           12   1300  1.830587\n",
       "76838      53     0     57    8            4   1500  1.726344\n",
       "76839      53     0     38    8            4    900  1.658305\n",
       "\n",
       "[76840 rows x 7 columns]"
      ]
     },
     "execution_count": 15,
     "metadata": {},
     "output_type": "execute_result"
    }
   ],
   "source": [
    "pesquisa"
   ]
  },
  {
   "cell_type": "code",
   "execution_count": 16,
   "id": "e4159104-db29-4b1d-aeef-0fee73457f69",
   "metadata": {},
   "outputs": [],
   "source": [
    "pesquisa['sexo'].replace({0:'Masculino', 1:'Feminino'}, inplace=True)"
   ]
  },
  {
   "cell_type": "code",
   "execution_count": 17,
   "id": "a94191ff-8936-42dc-8851-07aed36a151e",
   "metadata": {},
   "outputs": [
    {
     "data": {
      "text/html": [
       "<div>\n",
       "<style scoped>\n",
       "    .dataframe tbody tr th:only-of-type {\n",
       "        vertical-align: middle;\n",
       "    }\n",
       "\n",
       "    .dataframe tbody tr th {\n",
       "        vertical-align: top;\n",
       "    }\n",
       "\n",
       "    .dataframe thead th {\n",
       "        text-align: right;\n",
       "    }\n",
       "</style>\n",
       "<table border=\"1\" class=\"dataframe\">\n",
       "  <thead>\n",
       "    <tr style=\"text-align: right;\">\n",
       "      <th></th>\n",
       "      <th>estado</th>\n",
       "      <th>sexo</th>\n",
       "      <th>idade</th>\n",
       "      <th>cor</th>\n",
       "      <th>anos_estudo</th>\n",
       "      <th>renda</th>\n",
       "      <th>altura</th>\n",
       "    </tr>\n",
       "  </thead>\n",
       "  <tbody>\n",
       "    <tr>\n",
       "      <th>0</th>\n",
       "      <td>11</td>\n",
       "      <td>Masculino</td>\n",
       "      <td>23</td>\n",
       "      <td>8</td>\n",
       "      <td>12</td>\n",
       "      <td>800</td>\n",
       "      <td>1.603808</td>\n",
       "    </tr>\n",
       "    <tr>\n",
       "      <th>1</th>\n",
       "      <td>11</td>\n",
       "      <td>Feminino</td>\n",
       "      <td>23</td>\n",
       "      <td>2</td>\n",
       "      <td>12</td>\n",
       "      <td>1150</td>\n",
       "      <td>1.739790</td>\n",
       "    </tr>\n",
       "    <tr>\n",
       "      <th>2</th>\n",
       "      <td>11</td>\n",
       "      <td>Feminino</td>\n",
       "      <td>35</td>\n",
       "      <td>8</td>\n",
       "      <td>15</td>\n",
       "      <td>880</td>\n",
       "      <td>1.760444</td>\n",
       "    </tr>\n",
       "    <tr>\n",
       "      <th>3</th>\n",
       "      <td>11</td>\n",
       "      <td>Masculino</td>\n",
       "      <td>46</td>\n",
       "      <td>2</td>\n",
       "      <td>6</td>\n",
       "      <td>3500</td>\n",
       "      <td>1.783158</td>\n",
       "    </tr>\n",
       "    <tr>\n",
       "      <th>4</th>\n",
       "      <td>11</td>\n",
       "      <td>Feminino</td>\n",
       "      <td>47</td>\n",
       "      <td>8</td>\n",
       "      <td>9</td>\n",
       "      <td>150</td>\n",
       "      <td>1.690631</td>\n",
       "    </tr>\n",
       "    <tr>\n",
       "      <th>...</th>\n",
       "      <td>...</td>\n",
       "      <td>...</td>\n",
       "      <td>...</td>\n",
       "      <td>...</td>\n",
       "      <td>...</td>\n",
       "      <td>...</td>\n",
       "      <td>...</td>\n",
       "    </tr>\n",
       "    <tr>\n",
       "      <th>76835</th>\n",
       "      <td>53</td>\n",
       "      <td>Feminino</td>\n",
       "      <td>46</td>\n",
       "      <td>2</td>\n",
       "      <td>11</td>\n",
       "      <td>812</td>\n",
       "      <td>1.687030</td>\n",
       "    </tr>\n",
       "    <tr>\n",
       "      <th>76836</th>\n",
       "      <td>53</td>\n",
       "      <td>Masculino</td>\n",
       "      <td>30</td>\n",
       "      <td>4</td>\n",
       "      <td>7</td>\n",
       "      <td>1500</td>\n",
       "      <td>1.792934</td>\n",
       "    </tr>\n",
       "    <tr>\n",
       "      <th>76837</th>\n",
       "      <td>53</td>\n",
       "      <td>Masculino</td>\n",
       "      <td>32</td>\n",
       "      <td>8</td>\n",
       "      <td>12</td>\n",
       "      <td>1300</td>\n",
       "      <td>1.830587</td>\n",
       "    </tr>\n",
       "    <tr>\n",
       "      <th>76838</th>\n",
       "      <td>53</td>\n",
       "      <td>Masculino</td>\n",
       "      <td>57</td>\n",
       "      <td>8</td>\n",
       "      <td>4</td>\n",
       "      <td>1500</td>\n",
       "      <td>1.726344</td>\n",
       "    </tr>\n",
       "    <tr>\n",
       "      <th>76839</th>\n",
       "      <td>53</td>\n",
       "      <td>Masculino</td>\n",
       "      <td>38</td>\n",
       "      <td>8</td>\n",
       "      <td>4</td>\n",
       "      <td>900</td>\n",
       "      <td>1.658305</td>\n",
       "    </tr>\n",
       "  </tbody>\n",
       "</table>\n",
       "<p>76840 rows × 7 columns</p>\n",
       "</div>"
      ],
      "text/plain": [
       "       estado       sexo  idade  cor  anos_estudo  renda    altura\n",
       "0          11  Masculino     23    8           12    800  1.603808\n",
       "1          11   Feminino     23    2           12   1150  1.739790\n",
       "2          11   Feminino     35    8           15    880  1.760444\n",
       "3          11  Masculino     46    2            6   3500  1.783158\n",
       "4          11   Feminino     47    8            9    150  1.690631\n",
       "...       ...        ...    ...  ...          ...    ...       ...\n",
       "76835      53   Feminino     46    2           11    812  1.687030\n",
       "76836      53  Masculino     30    4            7   1500  1.792934\n",
       "76837      53  Masculino     32    8           12   1300  1.830587\n",
       "76838      53  Masculino     57    8            4   1500  1.726344\n",
       "76839      53  Masculino     38    8            4    900  1.658305\n",
       "\n",
       "[76840 rows x 7 columns]"
      ]
     },
     "execution_count": 17,
     "metadata": {},
     "output_type": "execute_result"
    }
   ],
   "source": [
    "pesquisa"
   ]
  },
  {
   "cell_type": "code",
   "execution_count": 18,
   "id": "310d9f29-94e8-4517-9807-7a982a9e8b94",
   "metadata": {},
   "outputs": [
    {
     "name": "stdout",
     "output_type": "stream",
     "text": [
      "sexo\n",
      "Masculino    53250\n",
      "Feminino     23590\n",
      "Name: count, dtype: int64\n"
     ]
    }
   ],
   "source": [
    "# Análise Descritivas da coluna SEXO. Por ser categórica, vamos analisar a frequência.\n",
    "contagem_sexo = pesquisa['sexo'].value_counts()\n",
    "print(contagem_sexo)"
   ]
  },
  {
   "cell_type": "code",
   "execution_count": 19,
   "id": "1b38456f-0233-4760-83a9-9ae7a34d250a",
   "metadata": {},
   "outputs": [
    {
     "name": "stderr",
     "output_type": "stream",
     "text": [
      "C:\\Users\\brunn\\AppData\\Local\\Temp\\ipykernel_39864\\4269138731.py:4: FutureWarning: \n",
      "\n",
      "Passing `palette` without assigning `hue` is deprecated and will be removed in v0.14.0. Assign the `x` variable to `hue` and set `legend=False` for the same effect.\n",
      "\n",
      "  sns.countplot(x='sexo', data=pesquisa, palette='Set2')\n"
     ]
    },
    {
     "data": {
      "image/png": "[encoded data removed]",
      "text/plain": [
       "<Figure size 800x600 with 1 Axes>"
      ]
     },
     "metadata": {},
     "output_type": "display_data"
    }
   ],
   "source": [
    "# # Plotar o gráfico de barras para a coluna SEXO com seaborn\n",
    "plt.figure(figsize=(8,6))\n",
    "\n",
    "sns.countplot(x='sexo', data=pesquisa, palette='Set2')\n",
    "plt.title('Distribuição da Sexo')\n",
    "plt.xlabel('Sexo')\n",
    "plt.ylabel('Frequência')\n",
    "plt.xticks(rotation=45)\n",
    "plt.grid(True)\n",
    "\n",
    "# Mostrar o gráfico\n",
    "plt.show()"
   ]
  },
  {
   "cell_type": "code",
   "execution_count": 20,
   "id": "93b543a1-5420-497d-9a6a-135fa4f361fc",
   "metadata": {},
   "outputs": [
    {
     "name": "stderr",
     "output_type": "stream",
     "text": [
      "C:\\Users\\brunn\\AppData\\Local\\Temp\\ipykernel_39864\\2905654377.py:30: FutureWarning: A value is trying to be set on a copy of a DataFrame or Series through chained assignment using an inplace method.\n",
      "The behavior will change in pandas 3.0. This inplace method will never work because the intermediate object on which we are setting values always behaves as a copy.\n",
      "\n",
      "For example, when doing 'df[col].method(value, inplace=True)', try using 'df.method({col: value}, inplace=True)' or df[col] = df[col].method(value) instead, to perform the operation inplace on the original object.\n",
      "\n",
      "\n",
      "  pesquisa['estado'].replace(estado, inplace=True)\n"
     ]
    }
   ],
   "source": [
    "estado = {\n",
    "    11: 'Rondônia',\n",
    "    12: 'Acre',\n",
    "    13: 'Amazonas',\n",
    "    14: 'Roraima',\n",
    "    15: 'Pará',\n",
    "    16: 'Amapá',\n",
    "    17: 'Tocantins',\n",
    "    21: 'Maranhão',\n",
    "    22: 'Piauí',\n",
    "    23: 'Ceará',\n",
    "    24: 'Rio Grande do Norte',\n",
    "    25: 'Paraíba',\n",
    "    26: 'Pernambuco',\n",
    "    27: 'Alagoas',\n",
    "    28: 'Sergipe',\n",
    "    29: 'Bahia',\n",
    "    31: 'Minas Gerais',\n",
    "    32: 'Espírito Santo',\n",
    "    33: 'Rio de Janeiro',\n",
    "    35: 'São Paulo',\n",
    "    41: 'Paraná',\n",
    "    42: 'Santa Catarina',\n",
    "    43: 'Rio Grande do Sul',\n",
    "    50: 'Mato Grosso do Sul',\n",
    "    51: 'Mato Grosso',\n",
    "    52: 'Goiás',\n",
    "    53: 'Distrito Federal'\n",
    "}\n",
    "pesquisa['estado'].replace(estado, inplace=True)"
   ]
  },
  {
   "cell_type": "code",
   "execution_count": 21,
   "id": "bb25827f-26fe-438e-b5b5-0c51876b2c42",
   "metadata": {},
   "outputs": [
    {
     "data": {
      "text/html": [
       "<div>\n",
       "<style scoped>\n",
       "    .dataframe tbody tr th:only-of-type {\n",
       "        vertical-align: middle;\n",
       "    }\n",
       "\n",
       "    .dataframe tbody tr th {\n",
       "        vertical-align: top;\n",
       "    }\n",
       "\n",
       "    .dataframe thead th {\n",
       "        text-align: right;\n",
       "    }\n",
       "</style>\n",
       "<table border=\"1\" class=\"dataframe\">\n",
       "  <thead>\n",
       "    <tr style=\"text-align: right;\">\n",
       "      <th></th>\n",
       "      <th>estado</th>\n",
       "      <th>sexo</th>\n",
       "      <th>idade</th>\n",
       "      <th>cor</th>\n",
       "      <th>anos_estudo</th>\n",
       "      <th>renda</th>\n",
       "      <th>altura</th>\n",
       "    </tr>\n",
       "  </thead>\n",
       "  <tbody>\n",
       "    <tr>\n",
       "      <th>0</th>\n",
       "      <td>Rondônia</td>\n",
       "      <td>Masculino</td>\n",
       "      <td>23</td>\n",
       "      <td>8</td>\n",
       "      <td>12</td>\n",
       "      <td>800</td>\n",
       "      <td>1.603808</td>\n",
       "    </tr>\n",
       "    <tr>\n",
       "      <th>1</th>\n",
       "      <td>Rondônia</td>\n",
       "      <td>Feminino</td>\n",
       "      <td>23</td>\n",
       "      <td>2</td>\n",
       "      <td>12</td>\n",
       "      <td>1150</td>\n",
       "      <td>1.739790</td>\n",
       "    </tr>\n",
       "    <tr>\n",
       "      <th>2</th>\n",
       "      <td>Rondônia</td>\n",
       "      <td>Feminino</td>\n",
       "      <td>35</td>\n",
       "      <td>8</td>\n",
       "      <td>15</td>\n",
       "      <td>880</td>\n",
       "      <td>1.760444</td>\n",
       "    </tr>\n",
       "    <tr>\n",
       "      <th>3</th>\n",
       "      <td>Rondônia</td>\n",
       "      <td>Masculino</td>\n",
       "      <td>46</td>\n",
       "      <td>2</td>\n",
       "      <td>6</td>\n",
       "      <td>3500</td>\n",
       "      <td>1.783158</td>\n",
       "    </tr>\n",
       "    <tr>\n",
       "      <th>4</th>\n",
       "      <td>Rondônia</td>\n",
       "      <td>Feminino</td>\n",
       "      <td>47</td>\n",
       "      <td>8</td>\n",
       "      <td>9</td>\n",
       "      <td>150</td>\n",
       "      <td>1.690631</td>\n",
       "    </tr>\n",
       "    <tr>\n",
       "      <th>...</th>\n",
       "      <td>...</td>\n",
       "      <td>...</td>\n",
       "      <td>...</td>\n",
       "      <td>...</td>\n",
       "      <td>...</td>\n",
       "      <td>...</td>\n",
       "      <td>...</td>\n",
       "    </tr>\n",
       "    <tr>\n",
       "      <th>76835</th>\n",
       "      <td>Distrito Federal</td>\n",
       "      <td>Feminino</td>\n",
       "      <td>46</td>\n",
       "      <td>2</td>\n",
       "      <td>11</td>\n",
       "      <td>812</td>\n",
       "      <td>1.687030</td>\n",
       "    </tr>\n",
       "    <tr>\n",
       "      <th>76836</th>\n",
       "      <td>Distrito Federal</td>\n",
       "      <td>Masculino</td>\n",
       "      <td>30</td>\n",
       "      <td>4</td>\n",
       "      <td>7</td>\n",
       "      <td>1500</td>\n",
       "      <td>1.792934</td>\n",
       "    </tr>\n",
       "    <tr>\n",
       "      <th>76837</th>\n",
       "      <td>Distrito Federal</td>\n",
       "      <td>Masculino</td>\n",
       "      <td>32</td>\n",
       "      <td>8</td>\n",
       "      <td>12</td>\n",
       "      <td>1300</td>\n",
       "      <td>1.830587</td>\n",
       "    </tr>\n",
       "    <tr>\n",
       "      <th>76838</th>\n",
       "      <td>Distrito Federal</td>\n",
       "      <td>Masculino</td>\n",
       "      <td>57</td>\n",
       "      <td>8</td>\n",
       "      <td>4</td>\n",
       "      <td>1500</td>\n",
       "      <td>1.726344</td>\n",
       "    </tr>\n",
       "    <tr>\n",
       "      <th>76839</th>\n",
       "      <td>Distrito Federal</td>\n",
       "      <td>Masculino</td>\n",
       "      <td>38</td>\n",
       "      <td>8</td>\n",
       "      <td>4</td>\n",
       "      <td>900</td>\n",
       "      <td>1.658305</td>\n",
       "    </tr>\n",
       "  </tbody>\n",
       "</table>\n",
       "<p>76840 rows × 7 columns</p>\n",
       "</div>"
      ],
      "text/plain": [
       "                 estado       sexo  idade  cor  anos_estudo  renda    altura\n",
       "0              Rondônia  Masculino     23    8           12    800  1.603808\n",
       "1              Rondônia   Feminino     23    2           12   1150  1.739790\n",
       "2              Rondônia   Feminino     35    8           15    880  1.760444\n",
       "3              Rondônia  Masculino     46    2            6   3500  1.783158\n",
       "4              Rondônia   Feminino     47    8            9    150  1.690631\n",
       "...                 ...        ...    ...  ...          ...    ...       ...\n",
       "76835  Distrito Federal   Feminino     46    2           11    812  1.687030\n",
       "76836  Distrito Federal  Masculino     30    4            7   1500  1.792934\n",
       "76837  Distrito Federal  Masculino     32    8           12   1300  1.830587\n",
       "76838  Distrito Federal  Masculino     57    8            4   1500  1.726344\n",
       "76839  Distrito Federal  Masculino     38    8            4    900  1.658305\n",
       "\n",
       "[76840 rows x 7 columns]"
      ]
     },
     "execution_count": 21,
     "metadata": {},
     "output_type": "execute_result"
    }
   ],
   "source": [
    "pesquisa"
   ]
  },
  {
   "cell_type": "code",
   "execution_count": 22,
   "id": "fca2185c-7c3f-4e05-b095-2550e05e85af",
   "metadata": {},
   "outputs": [
    {
     "name": "stdout",
     "output_type": "stream",
     "text": [
      "estado\n",
      "São Paulo              8544\n",
      "Minas Gerais           7686\n",
      "Rio Grande do Sul      6322\n",
      "Bahia                  5717\n",
      "Rio de Janeiro         5556\n",
      "Pará                   4449\n",
      "Paraná                 4356\n",
      "Pernambuco             3820\n",
      "Goiás                  3478\n",
      "Ceará                  3359\n",
      "Santa Catarina         2275\n",
      "Amazonas               2206\n",
      "Distrito Federal       2054\n",
      "Mato Grosso            1800\n",
      "Maranhão               1787\n",
      "Rondônia               1537\n",
      "Espírito Santo         1511\n",
      "Mato Grosso do Sul     1440\n",
      "Tocantins              1306\n",
      "Sergipe                1287\n",
      "Paraíba                1274\n",
      "Piauí                  1211\n",
      "Rio Grande do Norte     973\n",
      "Acre                    937\n",
      "Alagoas                 903\n",
      "Roraima                 540\n",
      "Amapá                   512\n",
      "Name: count, dtype: int64\n"
     ]
    }
   ],
   "source": [
    "contagem_estado = pesquisa['estado'].value_counts()\n",
    "print(contagem_estado)"
   ]
  },
  {
   "cell_type": "code",
   "execution_count": 23,
   "id": "528f8324-9f25-449f-a77c-56f4fe62661a",
   "metadata": {},
   "outputs": [
    {
     "name": "stderr",
     "output_type": "stream",
     "text": [
      "C:\\Users\\brunn\\AppData\\Local\\Temp\\ipykernel_39864\\4156532705.py:7: FutureWarning: \n",
      "\n",
      "Passing `palette` without assigning `hue` is deprecated and will be removed in v0.14.0. Assign the `x` variable to `hue` and set `legend=False` for the same effect.\n",
      "\n",
      "  sns.countplot(x='estado', data=pesquisa, palette='Set2')\n"
     ]
    },
    {
     "data": {
      "image/png": "[encoded data removed]",
      "text/plain": [
       "<Figure size 1000x600 with 1 Axes>"
      ]
     },
     "metadata": {},
     "output_type": "display_data"
    }
   ],
   "source": [
    "import seaborn as sns\n",
    "import matplotlib.pyplot as plt\n",
    "\n",
    "# Plotando o gráfico de barras horizontal (com rotação dos rótulos)\n",
    "plt.figure(figsize=(10,6))\n",
    "\n",
    "sns.countplot(x='estado', data=pesquisa, palette='Set2')\n",
    "plt.title('Distribuição dos Estados')\n",
    "plt.xlabel('Estado')\n",
    "plt.ylabel('Frequência')\n",
    "plt.xticks(rotation=90)  # Rotaciona os rótulos do eixo X para 90 graus (vertical)\n",
    "plt.grid(True)\n",
    "\n",
    "# Mostrar o gráfico\n",
    "plt.show()"
   ]
  },
  {
   "cell_type": "code",
   "execution_count": 24,
   "id": "0a8031ed-dd34-4ca2-a00c-42b55b797162",
   "metadata": {},
   "outputs": [
    {
     "name": "stderr",
     "output_type": "stream",
     "text": [
      "C:\\Users\\brunn\\AppData\\Local\\Temp\\ipykernel_39864\\821804562.py:21: FutureWarning: A value is trying to be set on a copy of a DataFrame or Series through chained assignment using an inplace method.\n",
      "The behavior will change in pandas 3.0. This inplace method will never work because the intermediate object on which we are setting values always behaves as a copy.\n",
      "\n",
      "For example, when doing 'df[col].method(value, inplace=True)', try using 'df.method({col: value}, inplace=True)' or df[col] = df[col].method(value) instead, to perform the operation inplace on the original object.\n",
      "\n",
      "\n",
      "  pesquisa['anos_estudo'].replace(anos_estudo,inplace=True)\n"
     ]
    }
   ],
   "source": [
    "anos_estudo = {\n",
    "    1: '0',\n",
    "    2: '1',\n",
    "    3: '2',\n",
    "    4: '3',\n",
    "    5: '4',\n",
    "    6: '5',\n",
    "    7: '6',\n",
    "    8: '7',\n",
    "    9: '8',\n",
    "    10: '9',\n",
    "    11: '10',\n",
    "    12: '11',\n",
    "    13: '12',\n",
    "    14: '13',\n",
    "    15: '14',\n",
    "    16: '15',\n",
    "    17: '0'\n",
    "    }\n",
    "\n",
    "pesquisa['anos_estudo'].replace(anos_estudo,inplace=True)"
   ]
  },
  {
   "cell_type": "code",
   "execution_count": 25,
   "id": "6955bd0f-d6a5-447d-9961-d208629ec6fd",
   "metadata": {},
   "outputs": [
    {
     "data": {
      "text/html": [
       "<div>\n",
       "<style scoped>\n",
       "    .dataframe tbody tr th:only-of-type {\n",
       "        vertical-align: middle;\n",
       "    }\n",
       "\n",
       "    .dataframe tbody tr th {\n",
       "        vertical-align: top;\n",
       "    }\n",
       "\n",
       "    .dataframe thead th {\n",
       "        text-align: right;\n",
       "    }\n",
       "</style>\n",
       "<table border=\"1\" class=\"dataframe\">\n",
       "  <thead>\n",
       "    <tr style=\"text-align: right;\">\n",
       "      <th></th>\n",
       "      <th>estado</th>\n",
       "      <th>sexo</th>\n",
       "      <th>idade</th>\n",
       "      <th>cor</th>\n",
       "      <th>anos_estudo</th>\n",
       "      <th>renda</th>\n",
       "      <th>altura</th>\n",
       "    </tr>\n",
       "  </thead>\n",
       "  <tbody>\n",
       "    <tr>\n",
       "      <th>0</th>\n",
       "      <td>Rondônia</td>\n",
       "      <td>Masculino</td>\n",
       "      <td>23</td>\n",
       "      <td>8</td>\n",
       "      <td>11</td>\n",
       "      <td>800</td>\n",
       "      <td>1.603808</td>\n",
       "    </tr>\n",
       "    <tr>\n",
       "      <th>1</th>\n",
       "      <td>Rondônia</td>\n",
       "      <td>Feminino</td>\n",
       "      <td>23</td>\n",
       "      <td>2</td>\n",
       "      <td>11</td>\n",
       "      <td>1150</td>\n",
       "      <td>1.739790</td>\n",
       "    </tr>\n",
       "    <tr>\n",
       "      <th>2</th>\n",
       "      <td>Rondônia</td>\n",
       "      <td>Feminino</td>\n",
       "      <td>35</td>\n",
       "      <td>8</td>\n",
       "      <td>14</td>\n",
       "      <td>880</td>\n",
       "      <td>1.760444</td>\n",
       "    </tr>\n",
       "    <tr>\n",
       "      <th>3</th>\n",
       "      <td>Rondônia</td>\n",
       "      <td>Masculino</td>\n",
       "      <td>46</td>\n",
       "      <td>2</td>\n",
       "      <td>5</td>\n",
       "      <td>3500</td>\n",
       "      <td>1.783158</td>\n",
       "    </tr>\n",
       "    <tr>\n",
       "      <th>4</th>\n",
       "      <td>Rondônia</td>\n",
       "      <td>Feminino</td>\n",
       "      <td>47</td>\n",
       "      <td>8</td>\n",
       "      <td>8</td>\n",
       "      <td>150</td>\n",
       "      <td>1.690631</td>\n",
       "    </tr>\n",
       "  </tbody>\n",
       "</table>\n",
       "</div>"
      ],
      "text/plain": [
       "     estado       sexo  idade  cor anos_estudo  renda    altura\n",
       "0  Rondônia  Masculino     23    8          11    800  1.603808\n",
       "1  Rondônia   Feminino     23    2          11   1150  1.739790\n",
       "2  Rondônia   Feminino     35    8          14    880  1.760444\n",
       "3  Rondônia  Masculino     46    2           5   3500  1.783158\n",
       "4  Rondônia   Feminino     47    8           8    150  1.690631"
      ]
     },
     "execution_count": 25,
     "metadata": {},
     "output_type": "execute_result"
    }
   ],
   "source": [
    "pesquisa.head()"
   ]
  },
  {
   "cell_type": "code",
   "execution_count": null,
   "id": "2ac7c016-1146-4a7a-b195-411ec7cae7ea",
   "metadata": {},
   "outputs": [],
   "source": [
    "# 'estado', 'sexo', 'idade', 'cor', 'anos_estudo', 'renda', 'altura'], dtype='object')"
   ]
  },
  {
   "cell_type": "markdown",
   "id": "4383bf96-0b4b-4e9a-92a0-6a1b64d62dc3",
   "metadata": {},
   "source": [
    "### Análise Descritiva"
   ]
  },
  {
   "cell_type": "code",
   "execution_count": 26,
   "id": "a43a9200-29f6-4fad-96d5-13c403d49a7e",
   "metadata": {},
   "outputs": [
    {
     "name": "stdout",
     "output_type": "stream",
     "text": [
      "estado\n",
      "São Paulo              8544\n",
      "Minas Gerais           7686\n",
      "Rio Grande do Sul      6322\n",
      "Bahia                  5717\n",
      "Rio de Janeiro         5556\n",
      "Pará                   4449\n",
      "Paraná                 4356\n",
      "Pernambuco             3820\n",
      "Goiás                  3478\n",
      "Ceará                  3359\n",
      "Santa Catarina         2275\n",
      "Amazonas               2206\n",
      "Distrito Federal       2054\n",
      "Mato Grosso            1800\n",
      "Maranhão               1787\n",
      "Rondônia               1537\n",
      "Espírito Santo         1511\n",
      "Mato Grosso do Sul     1440\n",
      "Tocantins              1306\n",
      "Sergipe                1287\n",
      "Paraíba                1274\n",
      "Piauí                  1211\n",
      "Rio Grande do Norte     973\n",
      "Acre                    937\n",
      "Alagoas                 903\n",
      "Roraima                 540\n",
      "Amapá                   512\n",
      "Name: count, dtype: int64\n",
      "sexo\n",
      "Masculino    53250\n",
      "Feminino     23590\n",
      "Name: count, dtype: int64\n",
      "cor\n",
      "8    35925\n",
      "2    31815\n",
      "4     8391\n",
      "0      357\n",
      "6      352\n",
      "Name: count, dtype: int64\n"
     ]
    }
   ],
   "source": [
    "# Distribuição de frequencia para as variáveis categóricas\n",
    "print(pesquisa['estado'].value_counts())\n",
    "print(pesquisa['sexo'].value_counts())\n",
    "print(pesquisa['cor'].value_counts())"
   ]
  },
  {
   "cell_type": "code",
   "execution_count": 27,
   "id": "26bac046-8cc6-43b9-a42a-66c3eaa51247",
   "metadata": {},
   "outputs": [
    {
     "name": "stdout",
     "output_type": "stream",
     "text": [
      "              idade           cor          renda        altura\n",
      "count  76840.000000  76840.000000   76840.000000  76840.000000\n",
      "mean      44.071421      5.032613    2000.383199      1.699512\n",
      "std       12.480583      2.857118    3323.387730      0.079717\n",
      "min       13.000000      0.000000       0.000000      1.339245\n",
      "25%       34.000000      2.000000     788.000000      1.645785\n",
      "50%       43.000000      4.000000    1200.000000      1.699325\n",
      "75%       53.000000      8.000000    2000.000000      1.753062\n",
      "max       99.000000      8.000000  200000.000000      2.028497\n"
     ]
    }
   ],
   "source": [
    "# Análise Descritiva\n",
    "print(pesquisa.describe())"
   ]
  },
  {
   "cell_type": "code",
   "execution_count": 28,
   "id": "0dd660be-d1d4-45e2-9582-bb1e7ab3267d",
   "metadata": {},
   "outputs": [],
   "source": [
    "# Correlação entre as variáveis numérica"
   ]
  },
  {
   "cell_type": "code",
   "execution_count": 29,
   "id": "0fa0cc71-5181-400f-bb07-882e38115185",
   "metadata": {},
   "outputs": [
    {
     "data": {
      "image/png": "[encoded data removed]",
      "text/plain": [
       "<Figure size 640x480 with 2 Axes>"
      ]
     },
     "metadata": {},
     "output_type": "display_data"
    }
   ],
   "source": [
    "import seaborn as sns\n",
    "import matplotlib.pyplot as plt\n",
    "\n",
    "# Correlação entre variáveis numéricas\n",
    "correlation_matrix = pesquisa[['idade', 'anos_estudo', 'renda', 'altura']].corr()\n",
    "sns.heatmap(correlation_matrix, annot=True)\n",
    "plt.title('Matriz de Correlação')\n",
    "plt.show()\n"
   ]
  },
  {
   "cell_type": "code",
   "execution_count": 30,
   "id": "f3f69b52-f662-4b5a-8cb7-e4261cc2e8b6",
   "metadata": {},
   "outputs": [
    {
     "name": "stdout",
     "output_type": "stream",
     "text": [
      "sexo\n",
      "Feminino     1566.847393\n",
      "Masculino    2192.441596\n",
      "Name: renda, dtype: float64\n"
     ]
    },
    {
     "data": {
      "image/png": "[encoded data removed]",
      "text/plain": [
       "<Figure size 640x480 with 1 Axes>"
      ]
     },
     "metadata": {},
     "output_type": "display_data"
    }
   ],
   "source": [
    "# Análise COmparativa\n",
    "# Renda média por sexo\n",
    "renda_sexo = pesquisa.groupby('sexo')['renda'].mean()\n",
    "print(renda_sexo)\n",
    "\n",
    "# Gráfico de barras\n",
    "sns.barplot(x=renda_sexo.index, y=renda_sexo.values)\n",
    "plt.title('Renda Média por Sexo')\n",
    "plt.ylabel('Renda Média')\n",
    "plt.show()\n"
   ]
  },
  {
   "cell_type": "code",
   "execution_count": null,
   "id": "af8346b2-d249-448d-98b5-f3e11502c2cc",
   "metadata": {},
   "outputs": [],
   "source": []
  }
 ],
 "metadata": {
  "kernelspec": {
   "display_name": "Python 3 (ipykernel)",
   "language": "python",
   "name": "python3"
  },
  "language_info": {
   "codemirror_mode": {
    "name": "ipython",
    "version": 3
   },
   "file_extension": ".py",
   "mimetype": "text/x-python",
   "name": "python",
   "nbconvert_exporter": "python",
   "pygments_lexer": "ipython3",
   "version": "3.13.0"
  }
 },
 "nbformat": 4,
 "nbformat_minor": 5
}
